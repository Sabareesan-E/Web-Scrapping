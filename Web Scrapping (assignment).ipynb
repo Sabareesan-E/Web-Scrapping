{
 "cells": [
  {
   "cell_type": "code",
   "execution_count": 4,
   "id": "7ff776f0",
   "metadata": {},
   "outputs": [],
   "source": [
    "from bs4 import BeautifulSoup"
   ]
  },
  {
   "cell_type": "code",
   "execution_count": 5,
   "id": "a235a6a7",
   "metadata": {},
   "outputs": [],
   "source": [
    "import requests"
   ]
  },
  {
   "cell_type": "code",
   "execution_count": 6,
   "id": "808b9795",
   "metadata": {},
   "outputs": [],
   "source": [
    "import pandas as pd "
   ]
  },
  {
   "cell_type": "code",
   "execution_count": 7,
   "id": "8cd850ed",
   "metadata": {},
   "outputs": [],
   "source": [
    "url = \"https://www.flipkart.com/mobiles/pr?sid=tyy%2C4io&p%5B%5D=facets.brand%255B%255D%3DRealme&otracker=nmenu_sub_Electronics_0_Realme\""
   ]
  },
  {
   "cell_type": "code",
   "execution_count": 8,
   "id": "12f587de",
   "metadata": {},
   "outputs": [],
   "source": [
    "allow = requests.get(url)"
   ]
  },
  {
   "cell_type": "code",
   "execution_count": 9,
   "id": "cc688086",
   "metadata": {},
   "outputs": [
    {
     "name": "stdout",
     "output_type": "stream",
     "text": [
      "<Response [200]>\n"
     ]
    }
   ],
   "source": [
    " print(allow)"
   ]
  },
  {
   "cell_type": "code",
   "execution_count": 10,
   "id": "5a7d7750",
   "metadata": {},
   "outputs": [],
   "source": [
    "soup = BeautifulSoup(allow.text)"
   ]
  },
  {
   "cell_type": "code",
   "execution_count": 11,
   "id": "c98416dc",
   "metadata": {},
   "outputs": [],
   "source": [
    "product_name = soup.select(\"._4rR01T\")"
   ]
  },
  {
   "cell_type": "code",
   "execution_count": 12,
   "id": "023bed88",
   "metadata": {},
   "outputs": [
    {
     "data": {
      "text/plain": [
       "[<div class=\"_4rR01T\">realme C11 2021 (Cool Grey, 32 GB)</div>,\n",
       " <div class=\"_4rR01T\">realme C11 2021 (Cool Blue, 32 GB)</div>,\n",
       " <div class=\"_4rR01T\">realme C11 2021 (Cool Blue, 64 GB)</div>,\n",
       " <div class=\"_4rR01T\">realme C11 2021 (Cool Grey, 64 GB)</div>,\n",
       " <div class=\"_4rR01T\">realme C31 (Light Silver, 32 GB)</div>,\n",
       " <div class=\"_4rR01T\">realme C31 (Dark Green, 64 GB)</div>,\n",
       " <div class=\"_4rR01T\">realme C35 (Glowing Black, 64 GB)</div>,\n",
       " <div class=\"_4rR01T\">realme C31 (Light Silver, 64 GB)</div>,\n",
       " <div class=\"_4rR01T\">realme C35 (Glowing Green, 64 GB)</div>,\n",
       " <div class=\"_4rR01T\">realme C35 (Glowing Black, 128 GB)</div>,\n",
       " <div class=\"_4rR01T\">realme 9 (Sunburst Gold, 128 GB)</div>,\n",
       " <div class=\"_4rR01T\">realme 9 (Stargaze White, 128 GB)</div>,\n",
       " <div class=\"_4rR01T\">realme 9 Pro+ 5G (Sunrise Blue, 128 GB)</div>,\n",
       " <div class=\"_4rR01T\">realme 9 Pro+ 5G (Midnight Black, 128 GB)</div>,\n",
       " <div class=\"_4rR01T\">realme C31 (Dark Green, 32 GB)</div>,\n",
       " <div class=\"_4rR01T\">realme Narzo 50A (Oxygen Green, 128 GB)</div>,\n",
       " <div class=\"_4rR01T\">realme Narzo 50A (Oxygen Blue, 64 GB)</div>,\n",
       " <div class=\"_4rR01T\">realme Narzo 50 (Speed Blue, 64 GB)</div>,\n",
       " <div class=\"_4rR01T\">realme Narzo 50 (Speed Black, 128 GB)</div>,\n",
       " <div class=\"_4rR01T\">realme C35 (Glowing Green, 128 GB)</div>,\n",
       " <div class=\"_4rR01T\">realme Narzo 30 5G (Racing Blue, 128 GB)</div>,\n",
       " <div class=\"_4rR01T\">realme Narzo 50A (Oxygen Blue, 128 GB)</div>,\n",
       " <div class=\"_4rR01T\">realme Narzo 50A (Oxygen Green, 64 GB)</div>,\n",
       " <div class=\"_4rR01T\">realme 9 Pro+ 5G (Aurora Green, 128 GB)</div>]"
      ]
     },
     "execution_count": 12,
     "metadata": {},
     "output_type": "execute_result"
    }
   ],
   "source": [
    "product_name"
   ]
  },
  {
   "cell_type": "code",
   "execution_count": 13,
   "id": "c2021035",
   "metadata": {},
   "outputs": [],
   "source": [
    "product_link=[]\n",
    "product_title=[]"
   ]
  },
  {
   "cell_type": "code",
   "execution_count": 14,
   "id": "5326d17a",
   "metadata": {},
   "outputs": [],
   "source": [
    "for item in product_name:\n",
    "    product_title.append(item.text)\n",
    "    link = \"https://www.flipkart.com\" \n",
    "    product_link.append(link)"
   ]
  },
  {
   "cell_type": "code",
   "execution_count": 15,
   "id": "56aade60",
   "metadata": {},
   "outputs": [
    {
     "data": {
      "text/plain": [
       "['https://www.flipkart.com',\n",
       " 'https://www.flipkart.com',\n",
       " 'https://www.flipkart.com',\n",
       " 'https://www.flipkart.com',\n",
       " 'https://www.flipkart.com',\n",
       " 'https://www.flipkart.com',\n",
       " 'https://www.flipkart.com',\n",
       " 'https://www.flipkart.com',\n",
       " 'https://www.flipkart.com',\n",
       " 'https://www.flipkart.com',\n",
       " 'https://www.flipkart.com',\n",
       " 'https://www.flipkart.com',\n",
       " 'https://www.flipkart.com',\n",
       " 'https://www.flipkart.com',\n",
       " 'https://www.flipkart.com',\n",
       " 'https://www.flipkart.com',\n",
       " 'https://www.flipkart.com',\n",
       " 'https://www.flipkart.com',\n",
       " 'https://www.flipkart.com',\n",
       " 'https://www.flipkart.com',\n",
       " 'https://www.flipkart.com',\n",
       " 'https://www.flipkart.com',\n",
       " 'https://www.flipkart.com',\n",
       " 'https://www.flipkart.com']"
      ]
     },
     "execution_count": 15,
     "metadata": {},
     "output_type": "execute_result"
    }
   ],
   "source": [
    "product_link"
   ]
  },
  {
   "cell_type": "code",
   "execution_count": 16,
   "id": "a2ae18c9",
   "metadata": {},
   "outputs": [
    {
     "data": {
      "text/plain": [
       "['realme C11 2021 (Cool Grey, 32 GB)',\n",
       " 'realme C11 2021 (Cool Blue, 32 GB)',\n",
       " 'realme C11 2021 (Cool Blue, 64 GB)',\n",
       " 'realme C11 2021 (Cool Grey, 64 GB)',\n",
       " 'realme C31 (Light Silver, 32 GB)',\n",
       " 'realme C31 (Dark Green, 64 GB)',\n",
       " 'realme C35 (Glowing Black, 64 GB)',\n",
       " 'realme C31 (Light Silver, 64 GB)',\n",
       " 'realme C35 (Glowing Green, 64 GB)',\n",
       " 'realme C35 (Glowing Black, 128 GB)',\n",
       " 'realme 9 (Sunburst Gold, 128 GB)',\n",
       " 'realme 9 (Stargaze White, 128 GB)',\n",
       " 'realme 9 Pro+ 5G (Sunrise Blue, 128 GB)',\n",
       " 'realme 9 Pro+ 5G (Midnight Black, 128 GB)',\n",
       " 'realme C31 (Dark Green, 32 GB)',\n",
       " 'realme Narzo 50A (Oxygen Green, 128 GB)',\n",
       " 'realme Narzo 50A (Oxygen Blue, 64 GB)',\n",
       " 'realme Narzo 50 (Speed Blue, 64 GB)',\n",
       " 'realme Narzo 50 (Speed Black, 128 GB)',\n",
       " 'realme C35 (Glowing Green, 128 GB)',\n",
       " 'realme Narzo 30 5G (Racing Blue, 128 GB)',\n",
       " 'realme Narzo 50A (Oxygen Blue, 128 GB)',\n",
       " 'realme Narzo 50A (Oxygen Green, 64 GB)',\n",
       " 'realme 9 Pro+ 5G (Aurora Green, 128 GB)']"
      ]
     },
     "execution_count": 16,
     "metadata": {},
     "output_type": "execute_result"
    }
   ],
   "source": [
    "product_title"
   ]
  },
  {
   "cell_type": "code",
   "execution_count": 17,
   "id": "03aab8f1",
   "metadata": {},
   "outputs": [],
   "source": [
    "product_rate = soup.select(\"._1_WHN1\")"
   ]
  },
  {
   "cell_type": "code",
   "execution_count": 18,
   "id": "d3956d2f",
   "metadata": {},
   "outputs": [
    {
     "data": {
      "text/plain": [
       "[<div class=\"_30jeq3 _1_WHN1\">₹7,499</div>,\n",
       " <div class=\"_30jeq3 _1_WHN1\">₹7,499</div>,\n",
       " <div class=\"_30jeq3 _1_WHN1\">₹8,999</div>,\n",
       " <div class=\"_30jeq3 _1_WHN1\">₹8,999</div>,\n",
       " <div class=\"_30jeq3 _1_WHN1\">₹9,299</div>,\n",
       " <div class=\"_30jeq3 _1_WHN1\">₹9,999</div>,\n",
       " <div class=\"_30jeq3 _1_WHN1\">₹11,999</div>,\n",
       " <div class=\"_30jeq3 _1_WHN1\">₹9,999</div>,\n",
       " <div class=\"_30jeq3 _1_WHN1\">₹11,999</div>,\n",
       " <div class=\"_30jeq3 _1_WHN1\">₹12,999</div>,\n",
       " <div class=\"_30jeq3 _1_WHN1\">₹18,999</div>,\n",
       " <div class=\"_30jeq3 _1_WHN1\">₹18,999</div>,\n",
       " <div class=\"_30jeq3 _1_WHN1\">₹24,999</div>,\n",
       " <div class=\"_30jeq3 _1_WHN1\">₹26,999</div>,\n",
       " <div class=\"_30jeq3 _1_WHN1\">₹9,299</div>,\n",
       " <div class=\"_30jeq3 _1_WHN1\">₹12,499</div>,\n",
       " <div class=\"_30jeq3 _1_WHN1\">₹11,499</div>,\n",
       " <div class=\"_30jeq3 _1_WHN1\">₹11,999</div>,\n",
       " <div class=\"_30jeq3 _1_WHN1\">₹14,499</div>,\n",
       " <div class=\"_30jeq3 _1_WHN1\">₹12,999</div>,\n",
       " <div class=\"_30jeq3 _1_WHN1\">₹16,999</div>,\n",
       " <div class=\"_30jeq3 _1_WHN1\">₹12,499</div>,\n",
       " <div class=\"_30jeq3 _1_WHN1\">₹11,499</div>,\n",
       " <div class=\"_30jeq3 _1_WHN1\">₹24,999</div>]"
      ]
     },
     "execution_count": 18,
     "metadata": {},
     "output_type": "execute_result"
    }
   ],
   "source": [
    "product_rate"
   ]
  },
  {
   "cell_type": "code",
   "execution_count": 19,
   "id": "ac2647ca",
   "metadata": {},
   "outputs": [],
   "source": [
    "product_cost = []\n",
    "product_junk = []"
   ]
  },
  {
   "cell_type": "code",
   "execution_count": 20,
   "id": "67e07372",
   "metadata": {},
   "outputs": [],
   "source": [
    "for item in product_rate:\n",
    "    product_cost.append(item.text)\n",
    "    junk = \"https://www.flipkart.com\"\n",
    "    product_junk.append(junk)"
   ]
  },
  {
   "cell_type": "code",
   "execution_count": 21,
   "id": "e27198d9",
   "metadata": {},
   "outputs": [
    {
     "data": {
      "text/plain": [
       "['₹7,499',\n",
       " '₹7,499',\n",
       " '₹8,999',\n",
       " '₹8,999',\n",
       " '₹9,299',\n",
       " '₹9,999',\n",
       " '₹11,999',\n",
       " '₹9,999',\n",
       " '₹11,999',\n",
       " '₹12,999',\n",
       " '₹18,999',\n",
       " '₹18,999',\n",
       " '₹24,999',\n",
       " '₹26,999',\n",
       " '₹9,299',\n",
       " '₹12,499',\n",
       " '₹11,499',\n",
       " '₹11,999',\n",
       " '₹14,499',\n",
       " '₹12,999',\n",
       " '₹16,999',\n",
       " '₹12,499',\n",
       " '₹11,499',\n",
       " '₹24,999']"
      ]
     },
     "execution_count": 21,
     "metadata": {},
     "output_type": "execute_result"
    }
   ],
   "source": [
    "product_cost"
   ]
  },
  {
   "cell_type": "code",
   "execution_count": 29,
   "id": "394446c9",
   "metadata": {},
   "outputs": [],
   "source": [
    "product_detail = soup.select(\".rgWa7D:nth-child(3)\")"
   ]
  },
  {
   "cell_type": "code",
   "execution_count": 30,
   "id": "09f6ed69",
   "metadata": {},
   "outputs": [],
   "source": [
    "product_camera = []\n",
    "product_Junk = []"
   ]
  },
  {
   "cell_type": "code",
   "execution_count": 31,
   "id": "b466a047",
   "metadata": {},
   "outputs": [],
   "source": [
    "for item in product_detail:\n",
    "    product_camera.append(item.text)\n",
    "    Junk = \"https://www.flipkart.com\"\n",
    "    product_Junk.append(junk)"
   ]
  },
  {
   "cell_type": "code",
   "execution_count": 32,
   "id": "9765ae95",
   "metadata": {},
   "outputs": [
    {
     "data": {
      "text/plain": [
       "['8MP Rear Camera | 5MP Front Camera',\n",
       " '8MP Rear Camera | 5MP Front Camera',\n",
       " '8MP Rear Camera | 5MP Front Camera',\n",
       " '8MP Rear Camera | 5MP Front Camera',\n",
       " '13MP + 2MP + 0.3MP | 5MP Front Camera',\n",
       " '13MP + 2MP + 0.3MP | 5MP Front Camera',\n",
       " '50MP + 2MP + 0.3MP | 8MP Front Camera',\n",
       " '13MP + 2MP + 0.3MP | 5MP Front Camera',\n",
       " '50MP + 2MP + 0.3MP | 8MP Front Camera',\n",
       " '50MP + 2MP + 0.3MP | 8MP Front Camera',\n",
       " '108MP + 8MP + 2MP | 16MP Front Camera',\n",
       " '108MP + 8MP + 2MP | 16MP Front Camera',\n",
       " '50MP + 8MP + 2MP | 16MP Front Camera',\n",
       " '50MP + 8MP + 2MP | 16MP Front Camera',\n",
       " '13MP + 2MP + 0.3MP | 5MP Front Camera',\n",
       " '50MP + 2MP + 2MP | 8MP Front Camera',\n",
       " '50MP + 2MP + 2MP | 8MP Front Camera',\n",
       " '50MP + 2MP + 2MP | 16MP Front Camera',\n",
       " '50MP + 2MP + 2MP | 16MP Front Camera',\n",
       " '50MP + 2MP + 0.3MP | 8MP Front Camera',\n",
       " '48MP + 2MP + 2MP | 16MP Front Camera',\n",
       " '50MP + 2MP + 2MP | 8MP Front Camera',\n",
       " '50MP + 2MP + 2MP | 8MP Front Camera',\n",
       " '50MP + 8MP + 2MP | 16MP Front Camera']"
      ]
     },
     "execution_count": 32,
     "metadata": {},
     "output_type": "execute_result"
    }
   ],
   "source": [
    "product_camera"
   ]
  },
  {
   "cell_type": "code",
   "execution_count": 33,
   "id": "6b6e7de4",
   "metadata": {},
   "outputs": [],
   "source": [
    "product = pd.DataFrame(product_name,columns=[\"product_name\"])"
   ]
  },
  {
   "cell_type": "code",
   "execution_count": 34,
   "id": "00ab4d8f",
   "metadata": {},
   "outputs": [],
   "source": [
    "product[\"cost\"] = product_cost"
   ]
  },
  {
   "cell_type": "code",
   "execution_count": 36,
   "id": "e9390ba8",
   "metadata": {},
   "outputs": [],
   "source": [
    "product[\"camera\"] = product_camera"
   ]
  },
  {
   "cell_type": "code",
   "execution_count": 37,
   "id": "87fe85fe",
   "metadata": {},
   "outputs": [],
   "source": [
    "product.to_csv(\"product.csv\")"
   ]
  },
  {
   "cell_type": "code",
   "execution_count": 38,
   "id": "aca7fb68",
   "metadata": {},
   "outputs": [
    {
     "data": {
      "text/html": [
       "<div>\n",
       "<style scoped>\n",
       "    .dataframe tbody tr th:only-of-type {\n",
       "        vertical-align: middle;\n",
       "    }\n",
       "\n",
       "    .dataframe tbody tr th {\n",
       "        vertical-align: top;\n",
       "    }\n",
       "\n",
       "    .dataframe thead th {\n",
       "        text-align: right;\n",
       "    }\n",
       "</style>\n",
       "<table border=\"1\" class=\"dataframe\">\n",
       "  <thead>\n",
       "    <tr style=\"text-align: right;\">\n",
       "      <th></th>\n",
       "      <th>product_name</th>\n",
       "      <th>cost</th>\n",
       "      <th>camera</th>\n",
       "    </tr>\n",
       "  </thead>\n",
       "  <tbody>\n",
       "    <tr>\n",
       "      <th>0</th>\n",
       "      <td>realme C11 2021 (Cool Grey, 32 GB)</td>\n",
       "      <td>₹7,499</td>\n",
       "      <td>8MP Rear Camera | 5MP Front Camera</td>\n",
       "    </tr>\n",
       "    <tr>\n",
       "      <th>1</th>\n",
       "      <td>realme C11 2021 (Cool Blue, 32 GB)</td>\n",
       "      <td>₹7,499</td>\n",
       "      <td>8MP Rear Camera | 5MP Front Camera</td>\n",
       "    </tr>\n",
       "    <tr>\n",
       "      <th>2</th>\n",
       "      <td>realme C11 2021 (Cool Blue, 64 GB)</td>\n",
       "      <td>₹8,999</td>\n",
       "      <td>8MP Rear Camera | 5MP Front Camera</td>\n",
       "    </tr>\n",
       "    <tr>\n",
       "      <th>3</th>\n",
       "      <td>realme C11 2021 (Cool Grey, 64 GB)</td>\n",
       "      <td>₹8,999</td>\n",
       "      <td>8MP Rear Camera | 5MP Front Camera</td>\n",
       "    </tr>\n",
       "    <tr>\n",
       "      <th>4</th>\n",
       "      <td>realme C31 (Light Silver, 32 GB)</td>\n",
       "      <td>₹9,299</td>\n",
       "      <td>13MP + 2MP + 0.3MP | 5MP Front Camera</td>\n",
       "    </tr>\n",
       "    <tr>\n",
       "      <th>5</th>\n",
       "      <td>realme C31 (Dark Green, 64 GB)</td>\n",
       "      <td>₹9,999</td>\n",
       "      <td>13MP + 2MP + 0.3MP | 5MP Front Camera</td>\n",
       "    </tr>\n",
       "    <tr>\n",
       "      <th>6</th>\n",
       "      <td>realme C35 (Glowing Black, 64 GB)</td>\n",
       "      <td>₹11,999</td>\n",
       "      <td>50MP + 2MP + 0.3MP | 8MP Front Camera</td>\n",
       "    </tr>\n",
       "    <tr>\n",
       "      <th>7</th>\n",
       "      <td>realme C31 (Light Silver, 64 GB)</td>\n",
       "      <td>₹9,999</td>\n",
       "      <td>13MP + 2MP + 0.3MP | 5MP Front Camera</td>\n",
       "    </tr>\n",
       "    <tr>\n",
       "      <th>8</th>\n",
       "      <td>realme C35 (Glowing Green, 64 GB)</td>\n",
       "      <td>₹11,999</td>\n",
       "      <td>50MP + 2MP + 0.3MP | 8MP Front Camera</td>\n",
       "    </tr>\n",
       "    <tr>\n",
       "      <th>9</th>\n",
       "      <td>realme C35 (Glowing Black, 128 GB)</td>\n",
       "      <td>₹12,999</td>\n",
       "      <td>50MP + 2MP + 0.3MP | 8MP Front Camera</td>\n",
       "    </tr>\n",
       "    <tr>\n",
       "      <th>10</th>\n",
       "      <td>realme 9 (Sunburst Gold, 128 GB)</td>\n",
       "      <td>₹18,999</td>\n",
       "      <td>108MP + 8MP + 2MP | 16MP Front Camera</td>\n",
       "    </tr>\n",
       "    <tr>\n",
       "      <th>11</th>\n",
       "      <td>realme 9 (Stargaze White, 128 GB)</td>\n",
       "      <td>₹18,999</td>\n",
       "      <td>108MP + 8MP + 2MP | 16MP Front Camera</td>\n",
       "    </tr>\n",
       "    <tr>\n",
       "      <th>12</th>\n",
       "      <td>realme 9 Pro+ 5G (Sunrise Blue, 128 GB)</td>\n",
       "      <td>₹24,999</td>\n",
       "      <td>50MP + 8MP + 2MP | 16MP Front Camera</td>\n",
       "    </tr>\n",
       "    <tr>\n",
       "      <th>13</th>\n",
       "      <td>realme 9 Pro+ 5G (Midnight Black, 128 GB)</td>\n",
       "      <td>₹26,999</td>\n",
       "      <td>50MP + 8MP + 2MP | 16MP Front Camera</td>\n",
       "    </tr>\n",
       "    <tr>\n",
       "      <th>14</th>\n",
       "      <td>realme C31 (Dark Green, 32 GB)</td>\n",
       "      <td>₹9,299</td>\n",
       "      <td>13MP + 2MP + 0.3MP | 5MP Front Camera</td>\n",
       "    </tr>\n",
       "    <tr>\n",
       "      <th>15</th>\n",
       "      <td>realme Narzo 50A (Oxygen Green, 128 GB)</td>\n",
       "      <td>₹12,499</td>\n",
       "      <td>50MP + 2MP + 2MP | 8MP Front Camera</td>\n",
       "    </tr>\n",
       "    <tr>\n",
       "      <th>16</th>\n",
       "      <td>realme Narzo 50A (Oxygen Blue, 64 GB)</td>\n",
       "      <td>₹11,499</td>\n",
       "      <td>50MP + 2MP + 2MP | 8MP Front Camera</td>\n",
       "    </tr>\n",
       "    <tr>\n",
       "      <th>17</th>\n",
       "      <td>realme Narzo 50 (Speed Blue, 64 GB)</td>\n",
       "      <td>₹11,999</td>\n",
       "      <td>50MP + 2MP + 2MP | 16MP Front Camera</td>\n",
       "    </tr>\n",
       "    <tr>\n",
       "      <th>18</th>\n",
       "      <td>realme Narzo 50 (Speed Black, 128 GB)</td>\n",
       "      <td>₹14,499</td>\n",
       "      <td>50MP + 2MP + 2MP | 16MP Front Camera</td>\n",
       "    </tr>\n",
       "    <tr>\n",
       "      <th>19</th>\n",
       "      <td>realme C35 (Glowing Green, 128 GB)</td>\n",
       "      <td>₹12,999</td>\n",
       "      <td>50MP + 2MP + 0.3MP | 8MP Front Camera</td>\n",
       "    </tr>\n",
       "    <tr>\n",
       "      <th>20</th>\n",
       "      <td>realme Narzo 30 5G (Racing Blue, 128 GB)</td>\n",
       "      <td>₹16,999</td>\n",
       "      <td>48MP + 2MP + 2MP | 16MP Front Camera</td>\n",
       "    </tr>\n",
       "    <tr>\n",
       "      <th>21</th>\n",
       "      <td>realme Narzo 50A (Oxygen Blue, 128 GB)</td>\n",
       "      <td>₹12,499</td>\n",
       "      <td>50MP + 2MP + 2MP | 8MP Front Camera</td>\n",
       "    </tr>\n",
       "    <tr>\n",
       "      <th>22</th>\n",
       "      <td>realme Narzo 50A (Oxygen Green, 64 GB)</td>\n",
       "      <td>₹11,499</td>\n",
       "      <td>50MP + 2MP + 2MP | 8MP Front Camera</td>\n",
       "    </tr>\n",
       "    <tr>\n",
       "      <th>23</th>\n",
       "      <td>realme 9 Pro+ 5G (Aurora Green, 128 GB)</td>\n",
       "      <td>₹24,999</td>\n",
       "      <td>50MP + 8MP + 2MP | 16MP Front Camera</td>\n",
       "    </tr>\n",
       "  </tbody>\n",
       "</table>\n",
       "</div>"
      ],
      "text/plain": [
       "                                 product_name     cost  \\\n",
       "0          realme C11 2021 (Cool Grey, 32 GB)   ₹7,499   \n",
       "1          realme C11 2021 (Cool Blue, 32 GB)   ₹7,499   \n",
       "2          realme C11 2021 (Cool Blue, 64 GB)   ₹8,999   \n",
       "3          realme C11 2021 (Cool Grey, 64 GB)   ₹8,999   \n",
       "4            realme C31 (Light Silver, 32 GB)   ₹9,299   \n",
       "5              realme C31 (Dark Green, 64 GB)   ₹9,999   \n",
       "6           realme C35 (Glowing Black, 64 GB)  ₹11,999   \n",
       "7            realme C31 (Light Silver, 64 GB)   ₹9,999   \n",
       "8           realme C35 (Glowing Green, 64 GB)  ₹11,999   \n",
       "9          realme C35 (Glowing Black, 128 GB)  ₹12,999   \n",
       "10           realme 9 (Sunburst Gold, 128 GB)  ₹18,999   \n",
       "11          realme 9 (Stargaze White, 128 GB)  ₹18,999   \n",
       "12    realme 9 Pro+ 5G (Sunrise Blue, 128 GB)  ₹24,999   \n",
       "13  realme 9 Pro+ 5G (Midnight Black, 128 GB)  ₹26,999   \n",
       "14             realme C31 (Dark Green, 32 GB)   ₹9,299   \n",
       "15    realme Narzo 50A (Oxygen Green, 128 GB)  ₹12,499   \n",
       "16      realme Narzo 50A (Oxygen Blue, 64 GB)  ₹11,499   \n",
       "17        realme Narzo 50 (Speed Blue, 64 GB)  ₹11,999   \n",
       "18      realme Narzo 50 (Speed Black, 128 GB)  ₹14,499   \n",
       "19         realme C35 (Glowing Green, 128 GB)  ₹12,999   \n",
       "20   realme Narzo 30 5G (Racing Blue, 128 GB)  ₹16,999   \n",
       "21     realme Narzo 50A (Oxygen Blue, 128 GB)  ₹12,499   \n",
       "22     realme Narzo 50A (Oxygen Green, 64 GB)  ₹11,499   \n",
       "23    realme 9 Pro+ 5G (Aurora Green, 128 GB)  ₹24,999   \n",
       "\n",
       "                                   camera  \n",
       "0      8MP Rear Camera | 5MP Front Camera  \n",
       "1      8MP Rear Camera | 5MP Front Camera  \n",
       "2      8MP Rear Camera | 5MP Front Camera  \n",
       "3      8MP Rear Camera | 5MP Front Camera  \n",
       "4   13MP + 2MP + 0.3MP | 5MP Front Camera  \n",
       "5   13MP + 2MP + 0.3MP | 5MP Front Camera  \n",
       "6   50MP + 2MP + 0.3MP | 8MP Front Camera  \n",
       "7   13MP + 2MP + 0.3MP | 5MP Front Camera  \n",
       "8   50MP + 2MP + 0.3MP | 8MP Front Camera  \n",
       "9   50MP + 2MP + 0.3MP | 8MP Front Camera  \n",
       "10  108MP + 8MP + 2MP | 16MP Front Camera  \n",
       "11  108MP + 8MP + 2MP | 16MP Front Camera  \n",
       "12   50MP + 8MP + 2MP | 16MP Front Camera  \n",
       "13   50MP + 8MP + 2MP | 16MP Front Camera  \n",
       "14  13MP + 2MP + 0.3MP | 5MP Front Camera  \n",
       "15    50MP + 2MP + 2MP | 8MP Front Camera  \n",
       "16    50MP + 2MP + 2MP | 8MP Front Camera  \n",
       "17   50MP + 2MP + 2MP | 16MP Front Camera  \n",
       "18   50MP + 2MP + 2MP | 16MP Front Camera  \n",
       "19  50MP + 2MP + 0.3MP | 8MP Front Camera  \n",
       "20   48MP + 2MP + 2MP | 16MP Front Camera  \n",
       "21    50MP + 2MP + 2MP | 8MP Front Camera  \n",
       "22    50MP + 2MP + 2MP | 8MP Front Camera  \n",
       "23   50MP + 8MP + 2MP | 16MP Front Camera  "
      ]
     },
     "execution_count": 38,
     "metadata": {},
     "output_type": "execute_result"
    }
   ],
   "source": [
    "product"
   ]
  },
  {
   "cell_type": "code",
   "execution_count": null,
   "id": "486eb997",
   "metadata": {},
   "outputs": [],
   "source": []
  }
 ],
 "metadata": {
  "kernelspec": {
   "display_name": "Python 3 (ipykernel)",
   "language": "python",
   "name": "python3"
  },
  "language_info": {
   "codemirror_mode": {
    "name": "ipython",
    "version": 3
   },
   "file_extension": ".py",
   "mimetype": "text/x-python",
   "name": "python",
   "nbconvert_exporter": "python",
   "pygments_lexer": "ipython3",
   "version": "3.9.7"
  }
 },
 "nbformat": 4,
 "nbformat_minor": 5
}
